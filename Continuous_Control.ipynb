{
 "cells": [
  {
   "cell_type": "markdown",
   "metadata": {},
   "source": [
    "# Continuous Control\n",
    "\n",
    "---\n",
    "\n",
    "You are welcome to use this coding environment to train your agent for the project.  Follow the instructions below to get started!\n",
    "\n",
    "### 1. Start the Environment\n",
    "\n",
    "Run the next code cell to install a few packages.  This line will take a few minutes to run!"
   ]
  },
  {
   "cell_type": "code",
   "execution_count": 1,
   "metadata": {},
   "outputs": [],
   "source": [
    "!pip -q install ./python"
   ]
  },
  {
   "cell_type": "markdown",
   "metadata": {},
   "source": [
    "The environments corresponding to both versions of the environment are already saved in the Workspace and can be accessed at the file paths provided below.  \n",
    "\n",
    "Please select one of the two options below for loading the environment."
   ]
  },
  {
   "cell_type": "code",
   "execution_count": 2,
   "metadata": {},
   "outputs": [
    {
     "name": "stderr",
     "output_type": "stream",
     "text": [
      "INFO:unityagents:\n",
      "'Academy' started successfully!\n",
      "Unity Academy name: Academy\n",
      "        Number of Brains: 1\n",
      "        Number of External Brains : 1\n",
      "        Lesson number : 0\n",
      "        Reset Parameters :\n",
      "\t\tgoal_size -> 5.0\n",
      "\t\tgoal_speed -> 1.0\n",
      "Unity brain name: ReacherBrain\n",
      "        Number of Visual Observations (per agent): 0\n",
      "        Vector Observation space type: continuous\n",
      "        Vector Observation space size (per agent): 33\n",
      "        Number of stacked Vector Observation: 1\n",
      "        Vector Action space type: continuous\n",
      "        Vector Action space size (per agent): 4\n",
      "        Vector Action descriptions: , , , \n"
     ]
    }
   ],
   "source": [
    "from unityagents import UnityEnvironment\n",
    "import numpy as np\n",
    "from ddpg_agent import Agent\n",
    "from collections import deque\n",
    "import torch\n",
    "import matplotlib.pyplot as plt\n",
    "%matplotlib inline\n",
    "\n",
    "# select this option to load version 1 (with a single agent) of the environment\n",
    "env = UnityEnvironment(file_name='/data/Reacher_One_Linux_NoVis/Reacher_One_Linux_NoVis.x86_64')\n",
    "\n",
    "# select this option to load version 2 (with 20 agents) of the environment\n",
    "# env = UnityEnvironment(file_name='/data/Reacher_Linux_NoVis/Reacher.x86_64')"
   ]
  },
  {
   "cell_type": "markdown",
   "metadata": {},
   "source": [
    "Environments contain **_brains_** which are responsible for deciding the actions of their associated agents. Here we check for the first brain available, and set it as the default brain we will be controlling from Python."
   ]
  },
  {
   "cell_type": "code",
   "execution_count": 3,
   "metadata": {},
   "outputs": [],
   "source": [
    "# get the default brain\n",
    "brain_name = env.brain_names[0]\n",
    "brain = env.brains[brain_name]"
   ]
  },
  {
   "cell_type": "markdown",
   "metadata": {},
   "source": [
    "### 2. Examine the State and Action Spaces\n",
    "\n",
    "Run the code cell below to print some information about the environment."
   ]
  },
  {
   "cell_type": "code",
   "execution_count": 4,
   "metadata": {},
   "outputs": [
    {
     "name": "stdout",
     "output_type": "stream",
     "text": [
      "Number of agents: 1\n",
      "Size of each action: 4\n",
      "There are 1 agents. Each observes a state with length: 33\n",
      "The state for the first agent looks like: [  0.00000000e+00  -4.00000000e+00   0.00000000e+00   1.00000000e+00\n",
      "  -0.00000000e+00  -0.00000000e+00  -4.37113883e-08   0.00000000e+00\n",
      "   0.00000000e+00   0.00000000e+00   0.00000000e+00   0.00000000e+00\n",
      "   0.00000000e+00   0.00000000e+00  -1.00000000e+01   0.00000000e+00\n",
      "   1.00000000e+00  -0.00000000e+00  -0.00000000e+00  -4.37113883e-08\n",
      "   0.00000000e+00   0.00000000e+00   0.00000000e+00   0.00000000e+00\n",
      "   0.00000000e+00   0.00000000e+00   5.75471878e+00  -1.00000000e+00\n",
      "   5.55726671e+00   0.00000000e+00   1.00000000e+00   0.00000000e+00\n",
      "  -1.68164849e-01]\n"
     ]
    }
   ],
   "source": [
    "# reset the environment\n",
    "env_info = env.reset(train_mode=True)[brain_name]\n",
    "\n",
    "# number of agents\n",
    "num_agents = len(env_info.agents)\n",
    "print('Number of agents:', num_agents)\n",
    "\n",
    "# size of each action\n",
    "action_size = brain.vector_action_space_size\n",
    "print('Size of each action:', action_size)\n",
    "\n",
    "# examine the state space \n",
    "states = env_info.vector_observations\n",
    "state_size = states.shape[1]\n",
    "print('There are {} agents. Each observes a state with length: {}'.format(states.shape[0], state_size))\n",
    "print('The state for the first agent looks like:', states[0])"
   ]
  },
  {
   "cell_type": "markdown",
   "metadata": {},
   "source": [
    "### 3. Take Random Actions in the Environment\n",
    "\n",
    "In the next code cell, you will learn how to use the Python API to control the agent and receive feedback from the environment.\n",
    "\n",
    "Note that **in this coding environment, you will not be able to watch the agents while they are training**, and you should set `train_mode=True` to restart the environment."
   ]
  },
  {
   "cell_type": "code",
   "execution_count": 5,
   "metadata": {},
   "outputs": [
    {
     "name": "stdout",
     "output_type": "stream",
     "text": [
      "Episode 100\tAverage Score: 11.20\n",
      "Episode 180\tAverage Score: 30.11\n",
      "Environment solved in 80 episodes!\tAverage Score: 30.11\n"
     ]
    }
   ],
   "source": [
    "n_episodes=500 #Number of episodes\n",
    "max_t=500\n",
    "print_every=100\n",
    "avg_score = []\n",
    "scores_deque = deque(maxlen=print_every)\n",
    "steps = 10\n",
    "num_update = 10\n",
    "len_agents = len(str(num_agents))\n",
    "\n",
    "# initialize the score (for each agent)\n",
    "scores = np.zeros(num_agents)\n",
    "# reset the environment    \n",
    "env_info = env.reset(train_mode=True)[brain_name]\n",
    "# get the current state (for each agent)    \n",
    "states = env_info.vector_observations\n",
    "    \n",
    "agent_parameters = {\"state_size\": state_size, \"action_size\": action_size, \"random_seed\": 2,}\n",
    "agents = [Agent(**agent_parameters) for _ in range(num_agents)]\n",
    "\n",
    "assert len(agents) == num_agents\n",
    "    \n",
    "for i_episode in range(1, n_episodes+1):\n",
    "    # get the current state (for each agent)\n",
    "    states = env_info.vector_observations                  \n",
    "    for agent in agents:\n",
    "        agent.reset()\n",
    "    for t in range(max_t):\n",
    "        # select actions (for each agent)\n",
    "        actions = [agent.act(states[idx]) for idx, agent in enumerate(agents)]\n",
    "        # send all actions to tne environment   \n",
    "        env_info = env.step(actions)[brain_name]\n",
    "        # get next state (for each agent)\n",
    "        next_states = env_info.vector_observations\n",
    "        # get reward (for each agent)\n",
    "        rewards = env_info.rewards\n",
    "        # see if episode finished\n",
    "        dones = env_info.local_done                        \n",
    "        #Save experience/reward in replay memory          \n",
    "        step_tuple = zip(agents, states, actions, rewards, next_states, dones)\n",
    "            \n",
    "        for agent, state, action, reward, next_state, done in step_tuple:\n",
    "            agent.memory.add(state, action, reward, next_state, done)\n",
    "            if ( t % steps == 0):\n",
    "                agent.step(num_update)\n",
    "        # roll over states to next time step\n",
    "        states  = next_states\n",
    "        # update the score (for each agent)\n",
    "        scores += rewards\n",
    "        # exit loop if episode finished\n",
    "        if np.any(dones):                                  \n",
    "            break\n",
    "    #Total score (averaged over agents) this episode           \n",
    "    score = np.mean(scores)        \n",
    "    avg_score.append(score)\n",
    "    # save most recent score\n",
    "    scores_deque.append(score)        \n",
    "    print('\\rEpisode {}\\tAverage Score: {:.2f}'.format(i_episode, np.mean(scores_deque)), end=\"\")\n",
    "    \n",
    "    if i_episode % print_every == 0:\n",
    "        print('\\rEpisode {}\\tAverage Score: {:.2f}'.format(i_episode, np.mean(scores_deque)))\n",
    "        for idx, agent in enumerate(agents):\n",
    "            torch.save(agent.actor_local.state_dict(), 'checkpoint_actor.pth')\n",
    "            torch.save(agent.critic_local.state_dict(), 'checkpoint_critic.pth')        \n",
    "    if np.mean(scores_deque)>30.0:\n",
    "        print('\\nEnvironment solved in {:d} episodes!\\tAverage Score: {:.2f}'.format(i_episode-print_every, np.mean(scores_deque)))\n",
    "        break   \n",
    "scores = avg_score\n"
   ]
  },
  {
   "cell_type": "code",
   "execution_count": 8,
   "metadata": {},
   "outputs": [
    {
     "data": {
      "image/png": "[encoded data removed]",
      "text/plain": [
       "<matplotlib.figure.Figure at 0x7f0da5e0c630>"
      ]
     },
     "metadata": {
      "needs_background": "light"
     },
     "output_type": "display_data"
    }
   ],
   "source": [
    "fig = plt.figure(figsize=(8, 5))\n",
    "ax = fig.add_subplot(111)\n",
    "\n",
    "#Parameters\n",
    "plt.text(20, 85, \"Parameters\", fontsize=16)\n",
    "plt.text(20, 55,\n",
    "\"\\nsteps = 10\"\n",
    "\"\\nnum_update = 10\"\n",
    "\"\\nSEED = 2\"\n",
    "\"\\nBUFFER_SIZE = int(1e6) - (replay buffer size)\"\n",
    "\"\\nBATCH_SIZE = 32 - (minibatch size)\"\n",
    "\"\\nGAMMA = 0.99 - (discount factor)\"\n",
    "\"\\nTAU = 1e-3 - (for soft update of target parameters)\" \n",
    "\"\\nLR_ACTOR = 1e-3 - (learning rate of the actor )\"\n",
    "\"\\nLR_CRITIC = 3e-4 - (learning rate of the critic)\"\n",
    "\"\\nWEIGHT_DECAY = 0.0001- (L2 weight decay)\"\n",
    "\"\\nOUNoise Parameters: mu =0.,thetha =0.45,sigma=0.50\", fontsize=13)  \n",
    "\n",
    "# Plot\n",
    "plt.plot(np.arange(1, len(scores)+1), scores)\n",
    "plt.yticks(fontsize=10)    \n",
    "plt.xticks(fontsize=10) \n",
    "plt.ylabel('Score',fontsize=14)\n",
    "plt.xlabel('Episodes',fontsize=14)\n",
    "plt.text(-10, -12, \"Environment 1 solved in 80 episodes! Average Score: 30.11\", fontsize=15)\n",
    "plt.title(\"Experiment 1\",fontsize=18, ha='center')\n",
    "fig.savefig('plot_1.png', bbox_inches=\"tight\")\n",
    "plt.show()"
   ]
  },
  {
   "cell_type": "markdown",
   "metadata": {},
   "source": [
    "When finished, you can close the environment."
   ]
  },
  {
   "cell_type": "code",
   "execution_count": 7,
   "metadata": {},
   "outputs": [],
   "source": [
    "env.close()"
   ]
  },
  {
   "cell_type": "markdown",
   "metadata": {},
   "source": [
    "### 4. It's Your Turn!\n",
    "\n",
    "Now it's your turn to train your own agent to solve the environment!  A few **important notes**:\n",
    "- When training the environment, set `train_mode=True`, so that the line for resetting the environment looks like the following:\n",
    "```python\n",
    "env_info = env.reset(train_mode=True)[brain_name]\n",
    "```\n",
    "- To structure your work, you're welcome to work directly in this Jupyter notebook, or you might like to start over with a new file!  You can see the list of files in the workspace by clicking on **_Jupyter_** in the top left corner of the notebook.\n",
    "- In this coding environment, you will not be able to watch the agents while they are training.  However, **_after training the agents_**, you can download the saved model weights to watch the agents on your own machine! "
   ]
  }
 ],
 "metadata": {
  "kernelspec": {
   "display_name": "Python 3",
   "language": "python",
   "name": "python3"
  },
  "language_info": {
   "codemirror_mode": {
    "name": "ipython",
    "version": 3
   },
   "file_extension": ".py",
   "mimetype": "text/x-python",
   "name": "python",
   "nbconvert_exporter": "python",
   "pygments_lexer": "ipython3",
   "version": "3.6.3"
  }
 },
 "nbformat": 4,
 "nbformat_minor": 2
}
